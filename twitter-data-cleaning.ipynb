{
 "cells": [
  {
   "cell_type": "code",
   "execution_count": 1,
   "metadata": {},
   "outputs": [],
   "source": [
    "import pandas as pd\n",
    "import re\n",
    "import string\n",
    "import csv\n",
    "import nltk\n",
    "from textblob import TextBlob\n",
    "from nltk.corpus import stopwords\n",
    "from nltk.stem import PorterStemmer \n",
    "from nltk import word_tokenize\n",
    "from spellchecker import SpellChecker\n",
    "import matplotlib.pyplot as plt"
   ]
  },
  {
   "cell_type": "markdown",
   "metadata": {},
   "source": [
    "# Data "
   ]
  },
  {
   "cell_type": "code",
   "execution_count": 2,
   "metadata": {},
   "outputs": [],
   "source": [
    "twitter=pd.read_csv(r\"C:\\Users\\pawan_300\\Desktop\\Project work\\ml files\\ml project\\tweets.csv\")"
   ]
  },
  {
   "cell_type": "code",
   "execution_count": 12,
   "metadata": {},
   "outputs": [
    {
     "data": {
      "text/html": [
       "<div>\n",
       "<style scoped>\n",
       "    .dataframe tbody tr th:only-of-type {\n",
       "        vertical-align: middle;\n",
       "    }\n",
       "\n",
       "    .dataframe tbody tr th {\n",
       "        vertical-align: top;\n",
       "    }\n",
       "\n",
       "    .dataframe thead th {\n",
       "        text-align: right;\n",
       "    }\n",
       "</style>\n",
       "<table border=\"1\" class=\"dataframe\">\n",
       "  <thead>\n",
       "    <tr style=\"text-align: right;\">\n",
       "      <th></th>\n",
       "      <th>Text</th>\n",
       "      <th>favorited</th>\n",
       "      <th>favoriteCount</th>\n",
       "      <th>replyToSN</th>\n",
       "      <th>created</th>\n",
       "      <th>truncated</th>\n",
       "      <th>replyToSID</th>\n",
       "      <th>id</th>\n",
       "      <th>replyToUID</th>\n",
       "      <th>statusSource</th>\n",
       "      <th>screenName</th>\n",
       "      <th>retweetCount</th>\n",
       "      <th>isRetweet</th>\n",
       "      <th>retweeted</th>\n",
       "      <th>Sentiment</th>\n",
       "      <th>Sentiment_score</th>\n",
       "    </tr>\n",
       "  </thead>\n",
       "  <tbody>\n",
       "    <tr>\n",
       "      <th>0</th>\n",
       "      <td>RT  In You fourth final instalment Jon Goyens ...</td>\n",
       "      <td>False</td>\n",
       "      <td>0</td>\n",
       "      <td>NaN</td>\n",
       "      <td>4/6/2019 17:11</td>\n",
       "      <td>False</td>\n",
       "      <td>NaN</td>\n",
       "      <td>1.110000e+18</td>\n",
       "      <td>NaN</td>\n",
       "      <td>&lt;a href=\"http://twitter.com/download/iphone\" r...</td>\n",
       "      <td>coachescounsel</td>\n",
       "      <td>1</td>\n",
       "      <td>True</td>\n",
       "      <td>False</td>\n",
       "      <td>neutral</td>\n",
       "      <td>0.000000</td>\n",
       "    </tr>\n",
       "    <tr>\n",
       "      <th>1</th>\n",
       "      <td>RT  Weve got As Soon As Possible exciting news...</td>\n",
       "      <td>False</td>\n",
       "      <td>0</td>\n",
       "      <td>NaN</td>\n",
       "      <td>4/6/2019 17:11</td>\n",
       "      <td>False</td>\n",
       "      <td>NaN</td>\n",
       "      <td>1.110000e+18</td>\n",
       "      <td>NaN</td>\n",
       "      <td>&lt;a href=\"http://twitter.com\" rel=\"nofollow\"&gt;Tw...</td>\n",
       "      <td>brglilly</td>\n",
       "      <td>1</td>\n",
       "      <td>True</td>\n",
       "      <td>False</td>\n",
       "      <td>positive</td>\n",
       "      <td>0.219048</td>\n",
       "    </tr>\n",
       "    <tr>\n",
       "      <th>2</th>\n",
       "      <td>The outcome PRIOR CHESTNUTS FUNDRAISER March U...</td>\n",
       "      <td>False</td>\n",
       "      <td>0</td>\n",
       "      <td>NaN</td>\n",
       "      <td>4/6/2019 17:11</td>\n",
       "      <td>True</td>\n",
       "      <td>NaN</td>\n",
       "      <td>1.110000e+18</td>\n",
       "      <td>NaN</td>\n",
       "      <td>&lt;a href=\"https://about.twitter.com/products/tw...</td>\n",
       "      <td>tcsbybloomex</td>\n",
       "      <td>0</td>\n",
       "      <td>False</td>\n",
       "      <td>False</td>\n",
       "      <td>neutral</td>\n",
       "      <td>0.000000</td>\n",
       "    </tr>\n",
       "    <tr>\n",
       "      <th>3</th>\n",
       "      <td>New india old india UFEEUFF</td>\n",
       "      <td>False</td>\n",
       "      <td>0</td>\n",
       "      <td>anandmahindra</td>\n",
       "      <td>4/6/2019 17:10</td>\n",
       "      <td>False</td>\n",
       "      <td>1.110000e+18</td>\n",
       "      <td>1.110000e+18</td>\n",
       "      <td>34197952.0</td>\n",
       "      <td>&lt;a href=\"http://twitter.com/download/iphone\" r...</td>\n",
       "      <td>JavedKhjaak</td>\n",
       "      <td>0</td>\n",
       "      <td>False</td>\n",
       "      <td>False</td>\n",
       "      <td>positive</td>\n",
       "      <td>0.118182</td>\n",
       "    </tr>\n",
       "    <tr>\n",
       "      <th>4</th>\n",
       "      <td>TCS Developing Five Blockchain Platforms</td>\n",
       "      <td>False</td>\n",
       "      <td>0</td>\n",
       "      <td>NaN</td>\n",
       "      <td>4/6/2019 17:09</td>\n",
       "      <td>False</td>\n",
       "      <td>NaN</td>\n",
       "      <td>1.110000e+18</td>\n",
       "      <td>NaN</td>\n",
       "      <td>&lt;a href=\"http://localhost.com\" rel=\"nofollow\"&gt;...</td>\n",
       "      <td>devnullius</td>\n",
       "      <td>0</td>\n",
       "      <td>False</td>\n",
       "      <td>False</td>\n",
       "      <td>neutral</td>\n",
       "      <td>0.000000</td>\n",
       "    </tr>\n",
       "  </tbody>\n",
       "</table>\n",
       "</div>"
      ],
      "text/plain": [
       "                                                Text  favorited  \\\n",
       "0  RT  In You fourth final instalment Jon Goyens ...      False   \n",
       "1  RT  Weve got As Soon As Possible exciting news...      False   \n",
       "2  The outcome PRIOR CHESTNUTS FUNDRAISER March U...      False   \n",
       "3                        New india old india UFEEUFF      False   \n",
       "4          TCS Developing Five Blockchain Platforms       False   \n",
       "\n",
       "   favoriteCount      replyToSN         created  truncated    replyToSID  \\\n",
       "0              0            NaN  4/6/2019 17:11      False           NaN   \n",
       "1              0            NaN  4/6/2019 17:11      False           NaN   \n",
       "2              0            NaN  4/6/2019 17:11       True           NaN   \n",
       "3              0  anandmahindra  4/6/2019 17:10      False  1.110000e+18   \n",
       "4              0            NaN  4/6/2019 17:09      False           NaN   \n",
       "\n",
       "             id  replyToUID  \\\n",
       "0  1.110000e+18         NaN   \n",
       "1  1.110000e+18         NaN   \n",
       "2  1.110000e+18         NaN   \n",
       "3  1.110000e+18  34197952.0   \n",
       "4  1.110000e+18         NaN   \n",
       "\n",
       "                                        statusSource      screenName  \\\n",
       "0  <a href=\"http://twitter.com/download/iphone\" r...  coachescounsel   \n",
       "1  <a href=\"http://twitter.com\" rel=\"nofollow\">Tw...        brglilly   \n",
       "2  <a href=\"https://about.twitter.com/products/tw...    tcsbybloomex   \n",
       "3  <a href=\"http://twitter.com/download/iphone\" r...     JavedKhjaak   \n",
       "4  <a href=\"http://localhost.com\" rel=\"nofollow\">...      devnullius   \n",
       "\n",
       "   retweetCount  isRetweet  retweeted Sentiment  Sentiment_score  \n",
       "0             1       True      False   neutral         0.000000  \n",
       "1             1       True      False  positive         0.219048  \n",
       "2             0      False      False   neutral         0.000000  \n",
       "3             0      False      False  positive         0.118182  \n",
       "4             0      False      False   neutral         0.000000  "
      ]
     },
     "execution_count": 12,
     "metadata": {},
     "output_type": "execute_result"
    }
   ],
   "source": [
    "twitter.head(5)"
   ]
  },
  {
   "cell_type": "markdown",
   "metadata": {},
   "source": [
    "# Cleaning"
   ]
  },
  {
   "cell_type": "code",
   "execution_count": 4,
   "metadata": {},
   "outputs": [],
   "source": [
    "def stopword():\n",
    "    stop=stopwords.words(\"english\")\n",
    "    twitter[\"Text\"]=twitter[\"Text\"].apply(lambda x:' '.join([word for word in x.split() if word not in (stop)]))#Stopword removal"
   ]
  },
  {
   "cell_type": "code",
   "execution_count": 5,
   "metadata": {},
   "outputs": [],
   "source": [
    "def remove():\n",
    "    twitter[\"Text\"]=twitter[\"Text\"].apply(lambda x:re.sub(r\"http\\S+\",'', x)) #for url\n",
    "    twitter['Text']=twitter['Text'].apply(lambda x:re.sub(r\"[a-z0-9\\.\\-+_]+@[a-z0-9\\.\\-+_]+\\.[a-z]+\",'',x)) #for email\n",
    "    twitter['Text']=twitter['Text'].apply(lambda x:re.sub('@[^\\s]+','',x)) #for username\n",
    "    twitter['Text']=twitter['Text'].apply(lambda x:re.sub('#[^\\s]+','',x)) #for trending # words\n",
    "    twitter['Text']=twitter['Text'].apply(lambda x:re.sub('\\$\\w*','',x)) "
   ]
  },
  {
   "cell_type": "code",
   "execution_count": 6,
   "metadata": {},
   "outputs": [],
   "source": [
    "stopword()\n",
    "remove()"
   ]
  },
  {
   "cell_type": "code",
   "execution_count": 8,
   "metadata": {},
   "outputs": [],
   "source": [
    "punct_num = '''!()-àÂ[]{};:\\n,<>./?@#%^\"&\\*_~0123456789=\\x92\\x92\\x96\\x85+|'\"''' #for punctuation\n",
    "def punctuation(x):\n",
    "    no_punct = \"\"\n",
    "    for char in x:\n",
    "            if char not in punct_num :\n",
    "                no_punct = no_punct + char  \n",
    "    return(no_punct)\n",
    "twitter['Text']=twitter['Text'].apply(lambda x:punctuation(x))"
   ]
  },
  {
   "cell_type": "code",
   "execution_count": 9,
   "metadata": {},
   "outputs": [],
   "source": [
    "fileName = r\"C:\\Users\\pawan_300\\Desktop\\Project work\\ml files\\ml project\\slang.txt\"\n",
    "accessMode = \"r\"\n",
    "def slang_translator(user_string):\n",
    "    user_string = user_string.split(\" \")\n",
    "    j = 0\n",
    "    for _str in user_string:\n",
    "        with open(fileName, accessMode) as myCSVfile:\n",
    "            dataFromFile = csv.reader(myCSVfile, delimiter=\"=\")\n",
    "            _str = re.sub('[^a-zA-Z0-9-_.]', '', _str)\n",
    "            for row in dataFromFile:\n",
    "                if _str.upper() == row[0]:\n",
    "                    user_string[j] = row[1]\n",
    "            myCSVfile.close()\n",
    "        j = j + 1\n",
    "    return(' '.join(user_string))\n",
    "twitter['Text']=twitter['Text'].apply(lambda x:slang_translator(x))"
   ]
  },
  {
   "cell_type": "code",
   "execution_count": null,
   "metadata": {},
   "outputs": [],
   "source": [
    "spell = SpellChecker()\n",
    "def spellcheck(x):\n",
    "        correct={}\n",
    "        wrong=spell.unknown(x.split())\n",
    "        for t in wrong:\n",
    "            correct[t]=spell.correction(t)\n",
    "        for t in correct.keys():\n",
    "            x= re.sub(t,correct[t],x,flags=re.IGNORECASE)\n",
    "        return(x)\n",
    "twitter['Text']=twitter['Text'].apply(lambda x:spellcheck(x)) #this will take some time "
   ]
  },
  {
   "cell_type": "markdown",
   "metadata": {},
   "source": [
    "## Polarity"
   ]
  },
  {
   "cell_type": "code",
   "execution_count": 10,
   "metadata": {},
   "outputs": [],
   "source": [
    "def polarity():\n",
    "    pole=[]\n",
    "    t=[]\n",
    "    for line in twitter[\"Text\"]:\n",
    "        temp=TextBlob(line).sentiment.polarity\n",
    "        t.append(temp)\n",
    "        if(temp>0):\n",
    "            pole.append('positive')\n",
    "        elif(temp<0):\n",
    "            pole.append('negative')\n",
    "        else:\n",
    "            pole.append('neutral')\n",
    "    return(pole,t)\n",
    "pole,temp=polarity()\n",
    "twitter['Sentiment']=pole\n",
    "twitter['Sentiment_score']=temp"
   ]
  },
  {
   "cell_type": "code",
   "execution_count": 11,
   "metadata": {},
   "outputs": [
    {
     "data": {
      "text/plain": [
       "(array([2125.,    0.,    0.,    0.,    0., 1928.,    0.,    0.,    0.,\n",
       "         519.]),\n",
       " array([0. , 0.2, 0.4, 0.6, 0.8, 1. , 1.2, 1.4, 1.6, 1.8, 2. ]),\n",
       " <a list of 10 Patch objects>)"
      ]
     },
     "execution_count": 11,
     "metadata": {},
     "output_type": "execute_result"
    },
    {
     "data": {
      "image/png": "[encoded data removed]",
      "text/plain": [
       "<Figure size 432x288 with 1 Axes>"
      ]
     },
     "metadata": {},
     "output_type": "display_data"
    }
   ],
   "source": [
    "plt.hist(pole,histtype='bar',align='mid')"
   ]
  },
  {
   "cell_type": "code",
   "execution_count": null,
   "metadata": {},
   "outputs": [],
   "source": []
  },
  {
   "cell_type": "code",
   "execution_count": null,
   "metadata": {},
   "outputs": [],
   "source": []
  }
 ],
 "metadata": {
  "kernelspec": {
   "display_name": "Python 3",
   "language": "python",
   "name": "python3"
  },
  "language_info": {
   "codemirror_mode": {
    "name": "ipython",
    "version": 3
   },
   "file_extension": ".py",
   "mimetype": "text/x-python",
   "name": "python",
   "nbconvert_exporter": "python",
   "pygments_lexer": "ipython3",
   "version": "3.6.5"
  }
 },
 "nbformat": 4,
 "nbformat_minor": 2
}
